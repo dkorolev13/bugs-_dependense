{
  "nbformat": 4,
  "nbformat_minor": 0,
  "metadata": {
    "colab": {
      "name": "av_soft_test.ipynb",
      "provenance": [],
      "collapsed_sections": []
    },
    "kernelspec": {
      "name": "python3",
      "display_name": "Python 3"
    },
    "language_info": {
      "name": "python"
    }
  },
  "cells": [
    {
      "cell_type": "markdown",
      "metadata": {
        "id": "Ldsg2yf_aGDc"
      },
      "source": [
        "Датасет описывает некоторую зависимость числа ***bugs*** от\n",
        "значений ***repository_name***, ***commit_hash***, ***commit_date***,\n",
        "***commit_author***, *commit_message*. Необходимо выявить\n",
        "данную зависимость и написать скрипт/ноутбук, обучающий\n",
        "модель по данному датасету"
      ]
    },
    {
      "cell_type": "code",
      "metadata": {
        "id": "QUyvO7KOY_ZU"
      },
      "source": [
        "import pandas as pd\n",
        "import numpy as np\n",
        "import matplotlib.pyplot as plt\n",
        "\n",
        "from sklearn.linear_model import LinearRegression, Lasso, Ridge, LassoCV, RidgeCV\n",
        "from sklearn.ensemble import RandomForestRegressor\n",
        "from sklearn.metrics import mean_squared_error\n",
        "\n",
        "import seaborn as sns"
      ],
      "execution_count": 210,
      "outputs": []
    },
    {
      "cell_type": "code",
      "metadata": {
        "id": "Cp4k3x3TZHkm",
        "colab": {
          "base_uri": "https://localhost:8080/"
        },
        "outputId": "447b35e8-6873-4948-a585-830bece0dd11"
      },
      "source": [
        "! gdown --id 1I1p_QvYk3yDmKS18ou0F3Xze8k8aKZZs"
      ],
      "execution_count": 211,
      "outputs": [
        {
          "output_type": "stream",
          "name": "stdout",
          "text": [
            "Downloading...\n",
            "From: https://drive.google.com/uc?id=1I1p_QvYk3yDmKS18ou0F3Xze8k8aKZZs\n",
            "To: /content/bugs_dependence.csv\n",
            "\r  0% 0.00/30.3k [00:00<?, ?B/s]\r100% 30.3k/30.3k [00:00<00:00, 21.7MB/s]\n"
          ]
        }
      ]
    },
    {
      "cell_type": "code",
      "metadata": {
        "id": "u7HxMNaWZzAW"
      },
      "source": [
        "df = pd.read_csv('/content/bugs_dependence.csv', parse_dates = ['commit_date'])"
      ],
      "execution_count": 212,
      "outputs": []
    },
    {
      "cell_type": "code",
      "metadata": {
        "id": "Kit_qjeazc7m",
        "colab": {
          "base_uri": "https://localhost:8080/"
        },
        "outputId": "30c3da4d-d5f7-4aab-ee79-8f011ad1ee64"
      },
      "source": [
        "df.shape"
      ],
      "execution_count": 213,
      "outputs": [
        {
          "output_type": "execute_result",
          "data": {
            "text/plain": [
              "(319, 6)"
            ]
          },
          "metadata": {},
          "execution_count": 213
        }
      ]
    },
    {
      "cell_type": "code",
      "metadata": {
        "id": "Z2rFJU9EcNVF",
        "colab": {
          "base_uri": "https://localhost:8080/",
          "height": 206
        },
        "outputId": "5faa1bd0-6d7b-46f6-9570-caf025d1e3fb"
      },
      "source": [
        "df.head()"
      ],
      "execution_count": 214,
      "outputs": [
        {
          "output_type": "execute_result",
          "data": {
            "text/html": [
              "<div>\n",
              "<style scoped>\n",
              "    .dataframe tbody tr th:only-of-type {\n",
              "        vertical-align: middle;\n",
              "    }\n",
              "\n",
              "    .dataframe tbody tr th {\n",
              "        vertical-align: top;\n",
              "    }\n",
              "\n",
              "    .dataframe thead th {\n",
              "        text-align: right;\n",
              "    }\n",
              "</style>\n",
              "<table border=\"1\" class=\"dataframe\">\n",
              "  <thead>\n",
              "    <tr style=\"text-align: right;\">\n",
              "      <th></th>\n",
              "      <th>repository_name</th>\n",
              "      <th>commit_hash</th>\n",
              "      <th>commit_date</th>\n",
              "      <th>commit_author</th>\n",
              "      <th>commit_message</th>\n",
              "      <th>bugs</th>\n",
              "    </tr>\n",
              "  </thead>\n",
              "  <tbody>\n",
              "    <tr>\n",
              "      <th>0</th>\n",
              "      <td>mlm</td>\n",
              "      <td>b28abb42</td>\n",
              "      <td>2020-06-12 14:26:12</td>\n",
              "      <td>Victor</td>\n",
              "      <td>объяснения предсказаний с помощью lime</td>\n",
              "      <td>4</td>\n",
              "    </tr>\n",
              "    <tr>\n",
              "      <th>1</th>\n",
              "      <td>mlm</td>\n",
              "      <td>438b5c4d</td>\n",
              "      <td>2020-06-12 11:53:10</td>\n",
              "      <td>Victor</td>\n",
              "      <td>Поставил lime вместо eli5</td>\n",
              "      <td>3</td>\n",
              "    </tr>\n",
              "    <tr>\n",
              "      <th>2</th>\n",
              "      <td>mlm</td>\n",
              "      <td>8e6e4f31</td>\n",
              "      <td>2020-06-11 15:19:03</td>\n",
              "      <td>Victor</td>\n",
              "      <td>Скрипт для создния пакетов обновления</td>\n",
              "      <td>4</td>\n",
              "    </tr>\n",
              "    <tr>\n",
              "      <th>3</th>\n",
              "      <td>mlm</td>\n",
              "      <td>5e0956a6</td>\n",
              "      <td>2020-06-11 10:42:29</td>\n",
              "      <td>Victor</td>\n",
              "      <td>Сортировка весов по убыванию</td>\n",
              "      <td>3</td>\n",
              "    </tr>\n",
              "    <tr>\n",
              "      <th>4</th>\n",
              "      <td>mlm</td>\n",
              "      <td>b9f4b40c</td>\n",
              "      <td>2020-06-11 09:25:19</td>\n",
              "      <td>Victor</td>\n",
              "      <td>не надо конвертировать массив до операции по с...</td>\n",
              "      <td>7</td>\n",
              "    </tr>\n",
              "  </tbody>\n",
              "</table>\n",
              "</div>"
            ],
            "text/plain": [
              "  repository_name  ... bugs\n",
              "0             mlm  ...    4\n",
              "1             mlm  ...    3\n",
              "2             mlm  ...    4\n",
              "3             mlm  ...    3\n",
              "4             mlm  ...    7\n",
              "\n",
              "[5 rows x 6 columns]"
            ]
          },
          "metadata": {},
          "execution_count": 214
        }
      ]
    },
    {
      "cell_type": "markdown",
      "metadata": {
        "id": "rcXsHYdc36ru"
      },
      "source": [
        "Посмотрим информацию о данных: есть ли незаполненные значения, в каком формате данные в столбцах\n",
        "\n",
        "\n"
      ]
    },
    {
      "cell_type": "code",
      "metadata": {
        "id": "X6hT0DDZx6MU",
        "colab": {
          "base_uri": "https://localhost:8080/"
        },
        "outputId": "22727f11-b45d-459c-9b36-5753b7f4b6c1"
      },
      "source": [
        "df.info()"
      ],
      "execution_count": 215,
      "outputs": [
        {
          "output_type": "stream",
          "name": "stdout",
          "text": [
            "<class 'pandas.core.frame.DataFrame'>\n",
            "RangeIndex: 319 entries, 0 to 318\n",
            "Data columns (total 6 columns):\n",
            " #   Column           Non-Null Count  Dtype         \n",
            "---  ------           --------------  -----         \n",
            " 0   repository_name  319 non-null    object        \n",
            " 1   commit_hash      319 non-null    object        \n",
            " 2   commit_date      319 non-null    datetime64[ns]\n",
            " 3   commit_author    319 non-null    object        \n",
            " 4   commit_message   319 non-null    object        \n",
            " 5   bugs             319 non-null    int64         \n",
            "dtypes: datetime64[ns](1), int64(1), object(4)\n",
            "memory usage: 15.1+ KB\n"
          ]
        }
      ]
    },
    {
      "cell_type": "markdown",
      "metadata": {
        "id": "jff78xaDoTmH"
      },
      "source": [
        "Пропусков в данных нет, все признаки типа object, целевая переменная типа int64"
      ]
    },
    {
      "cell_type": "code",
      "metadata": {
        "id": "Eci1juybow_q",
        "colab": {
          "base_uri": "https://localhost:8080/",
          "height": 300
        },
        "outputId": "854f87b1-6b7f-462a-e466-dc905679c397"
      },
      "source": [
        "df.describe()"
      ],
      "execution_count": 216,
      "outputs": [
        {
          "output_type": "execute_result",
          "data": {
            "text/html": [
              "<div>\n",
              "<style scoped>\n",
              "    .dataframe tbody tr th:only-of-type {\n",
              "        vertical-align: middle;\n",
              "    }\n",
              "\n",
              "    .dataframe tbody tr th {\n",
              "        vertical-align: top;\n",
              "    }\n",
              "\n",
              "    .dataframe thead th {\n",
              "        text-align: right;\n",
              "    }\n",
              "</style>\n",
              "<table border=\"1\" class=\"dataframe\">\n",
              "  <thead>\n",
              "    <tr style=\"text-align: right;\">\n",
              "      <th></th>\n",
              "      <th>bugs</th>\n",
              "    </tr>\n",
              "  </thead>\n",
              "  <tbody>\n",
              "    <tr>\n",
              "      <th>count</th>\n",
              "      <td>319.000000</td>\n",
              "    </tr>\n",
              "    <tr>\n",
              "      <th>mean</th>\n",
              "      <td>2.996865</td>\n",
              "    </tr>\n",
              "    <tr>\n",
              "      <th>std</th>\n",
              "      <td>1.855636</td>\n",
              "    </tr>\n",
              "    <tr>\n",
              "      <th>min</th>\n",
              "      <td>0.000000</td>\n",
              "    </tr>\n",
              "    <tr>\n",
              "      <th>25%</th>\n",
              "      <td>2.000000</td>\n",
              "    </tr>\n",
              "    <tr>\n",
              "      <th>50%</th>\n",
              "      <td>3.000000</td>\n",
              "    </tr>\n",
              "    <tr>\n",
              "      <th>75%</th>\n",
              "      <td>4.000000</td>\n",
              "    </tr>\n",
              "    <tr>\n",
              "      <th>max</th>\n",
              "      <td>12.000000</td>\n",
              "    </tr>\n",
              "  </tbody>\n",
              "</table>\n",
              "</div>"
            ],
            "text/plain": [
              "             bugs\n",
              "count  319.000000\n",
              "mean     2.996865\n",
              "std      1.855636\n",
              "min      0.000000\n",
              "25%      2.000000\n",
              "50%      3.000000\n",
              "75%      4.000000\n",
              "max     12.000000"
            ]
          },
          "metadata": {},
          "execution_count": 216
        }
      ]
    },
    {
      "cell_type": "markdown",
      "metadata": {
        "id": "Wa1vG4Vj0oNN"
      },
      "source": [
        "##Посмотрим распределение bugs"
      ]
    },
    {
      "cell_type": "code",
      "metadata": {
        "id": "7A8ZRQr3r_Ef",
        "colab": {
          "base_uri": "https://localhost:8080/",
          "height": 267
        },
        "outputId": "f7b8e628-3eb4-438b-dad2-c7a6aa9c946a"
      },
      "source": [
        "df['bugs'].hist();"
      ],
      "execution_count": 217,
      "outputs": [
        {
          "output_type": "display_data",
          "data": {
            "image/png": "[encoded data removed]",
            "text/plain": [
              "<Figure size 432x288 with 1 Axes>"
            ]
          },
          "metadata": {
            "needs_background": "light"
          }
        }
      ]
    },
    {
      "cell_type": "code",
      "metadata": {
        "id": "gtNr5mbx18jx",
        "colab": {
          "base_uri": "https://localhost:8080/",
          "height": 315
        },
        "outputId": "24477b24-234b-49f3-ac5e-6ff7fd770410"
      },
      "source": [
        "sns.boxplot(df['bugs']);"
      ],
      "execution_count": 218,
      "outputs": [
        {
          "output_type": "stream",
          "name": "stderr",
          "text": [
            "/usr/local/lib/python3.7/dist-packages/seaborn/_decorators.py:43: FutureWarning: Pass the following variable as a keyword arg: x. From version 0.12, the only valid positional argument will be `data`, and passing other arguments without an explicit keyword will result in an error or misinterpretation.\n",
            "  FutureWarning\n"
          ]
        },
        {
          "output_type": "display_data",
          "data": {
            "image/png": "[encoded data removed]",
            "text/plain": [
              "<Figure size 432x288 with 1 Axes>"
            ]
          },
          "metadata": {
            "needs_background": "light"
          }
        }
      ]
    },
    {
      "cell_type": "markdown",
      "metadata": {
        "id": "YeHDgWgC5bg1"
      },
      "source": [
        "##Посмотрим распределение категориальных признаков"
      ]
    },
    {
      "cell_type": "code",
      "metadata": {
        "id": "1LQefhXO6KfP",
        "colab": {
          "base_uri": "https://localhost:8080/",
          "height": 320
        },
        "outputId": "513a6204-a2a3-46c5-f264-2d6a65a9fffb"
      },
      "source": [
        "sns.countplot(df['commit_author']);"
      ],
      "execution_count": 219,
      "outputs": [
        {
          "output_type": "stream",
          "name": "stderr",
          "text": [
            "/usr/local/lib/python3.7/dist-packages/seaborn/_decorators.py:43: FutureWarning: Pass the following variable as a keyword arg: x. From version 0.12, the only valid positional argument will be `data`, and passing other arguments without an explicit keyword will result in an error or misinterpretation.\n",
            "  FutureWarning\n"
          ]
        },
        {
          "output_type": "display_data",
          "data": {
            "image/png": "[encoded data removed]",
            "text/plain": [
              "<Figure size 432x288 with 1 Axes>"
            ]
          },
          "metadata": {
            "needs_background": "light"
          }
        }
      ]
    },
    {
      "cell_type": "code",
      "metadata": {
        "id": "Sa07qT-h6Knn",
        "colab": {
          "base_uri": "https://localhost:8080/",
          "height": 316
        },
        "outputId": "d26dd88b-738d-47f7-c786-87f752145464"
      },
      "source": [
        "sns.countplot(df['repository_name']);"
      ],
      "execution_count": 220,
      "outputs": [
        {
          "output_type": "stream",
          "name": "stderr",
          "text": [
            "/usr/local/lib/python3.7/dist-packages/seaborn/_decorators.py:43: FutureWarning: Pass the following variable as a keyword arg: x. From version 0.12, the only valid positional argument will be `data`, and passing other arguments without an explicit keyword will result in an error or misinterpretation.\n",
            "  FutureWarning\n"
          ]
        },
        {
          "output_type": "display_data",
          "data": {
            "image/png": "[encoded data removed]",
            "text/plain": [
              "<Figure size 432x288 with 1 Axes>"
            ]
          },
          "metadata": {
            "needs_background": "light"
          }
        }
      ]
    },
    {
      "cell_type": "code",
      "metadata": {
        "id": "qwvejKy1J7qO",
        "colab": {
          "base_uri": "https://localhost:8080/",
          "height": 280
        },
        "outputId": "ab259c11-4d1e-4aa2-97c2-68afeafc79cc"
      },
      "source": [
        "sns.boxplot(x='repository_name', y='bugs', data=df);"
      ],
      "execution_count": 221,
      "outputs": [
        {
          "output_type": "display_data",
          "data": {
            "image/png": "[encoded data removed]",
            "text/plain": [
              "<Figure size 432x288 with 1 Axes>"
            ]
          },
          "metadata": {
            "needs_background": "light"
          }
        }
      ]
    },
    {
      "cell_type": "code",
      "metadata": {
        "id": "NXeEgr-iKGOt",
        "colab": {
          "base_uri": "https://localhost:8080/",
          "height": 280
        },
        "outputId": "c5c51cf1-3832-4fa0-8902-52566b1cd8f5"
      },
      "source": [
        "sns.boxplot(x='commit_author', y='bugs', data=df);"
      ],
      "execution_count": 222,
      "outputs": [
        {
          "output_type": "display_data",
          "data": {
            "image/png": "[encoded data removed]",
            "text/plain": [
              "<Figure size 432x288 with 1 Axes>"
            ]
          },
          "metadata": {
            "needs_background": "light"
          }
        }
      ]
    },
    {
      "cell_type": "markdown",
      "metadata": {
        "id": "JHxsW1S7zlVG"
      },
      "source": [
        "## Предобработка данных"
      ]
    },
    {
      "cell_type": "markdown",
      "metadata": {
        "id": "5SUGGKks84Ry"
      },
      "source": [
        "Посмотрим кол-во уникальных признаков в столбцах 'commit_hash' и 'commit_mesage'"
      ]
    },
    {
      "cell_type": "code",
      "metadata": {
        "id": "KOYhWcivpgt2",
        "colab": {
          "base_uri": "https://localhost:8080/"
        },
        "outputId": "2dc6f3ad-a905-44f4-9a4f-0a49a7e907a6"
      },
      "source": [
        "len(df['commit_hash'].unique())"
      ],
      "execution_count": 223,
      "outputs": [
        {
          "output_type": "execute_result",
          "data": {
            "text/plain": [
              "319"
            ]
          },
          "metadata": {},
          "execution_count": 223
        }
      ]
    },
    {
      "cell_type": "code",
      "metadata": {
        "id": "NrbzLj9GqA1U",
        "colab": {
          "base_uri": "https://localhost:8080/"
        },
        "outputId": "514c0268-032d-403c-e8a5-cf604ccd159b"
      },
      "source": [
        "len(df['commit_message'].unique())"
      ],
      "execution_count": 224,
      "outputs": [
        {
          "output_type": "execute_result",
          "data": {
            "text/plain": [
              "309"
            ]
          },
          "metadata": {},
          "execution_count": 224
        }
      ]
    },
    {
      "cell_type": "code",
      "metadata": {
        "id": "edB2HHmr6KcX",
        "colab": {
          "base_uri": "https://localhost:8080/"
        },
        "outputId": "ee3abcab-6cee-4211-a375-0dd0357ec4a7"
      },
      "source": [
        "df['commit_message'].value_counts().head(10)"
      ],
      "execution_count": 225,
      "outputs": [
        {
          "output_type": "execute_result",
          "data": {
            "text/plain": [
              "Merge branch 'changes-to-merge' into 'master'    4\n",
              "Initial commit                                   3\n",
              "Update service.py                                2\n",
              "Merge branch 'master' of                         2\n",
              "moved config files to /opt/avssoft/configs       2\n",
              "installer changes                                2\n",
              "fix set_state                                    2\n",
              "restore containers                               1\n",
              "Fix proxy_install                                1\n",
              "renamed filebeat compose config extension        1\n",
              "Name: commit_message, dtype: int64"
            ]
          },
          "metadata": {},
          "execution_count": 225
        }
      ]
    },
    {
      "cell_type": "markdown",
      "metadata": {
        "id": "Rtd23APu9Jhi"
      },
      "source": [
        "Все значения в 'commit_hash' уникальны. В 'commit_message' есть неуникальные значения, их немного и они неинформативны. Эти столбцы выступают в качестве идентификаторов. Их нужно будет убрать."
      ]
    },
    {
      "cell_type": "markdown",
      "metadata": {
        "id": "Cx_ug49h-Irx"
      },
      "source": [
        "Отсортируем данные по дате"
      ]
    },
    {
      "cell_type": "code",
      "metadata": {
        "id": "zWDyxIul6KqP"
      },
      "source": [
        "df = df.sort_values('commit_date')"
      ],
      "execution_count": 226,
      "outputs": []
    },
    {
      "cell_type": "markdown",
      "metadata": {
        "id": "mUmXBUVw--Rp"
      },
      "source": [
        "Добавим столбцы: месяц, день, выходной/не выходной"
      ]
    },
    {
      "cell_type": "code",
      "metadata": {
        "id": "z8P9PFKz6Kvv"
      },
      "source": [
        "df['month'] = df.commit_date.apply(lambda x : x.month)"
      ],
      "execution_count": 227,
      "outputs": []
    },
    {
      "cell_type": "code",
      "metadata": {
        "id": "A_Nx3h2s_MqZ"
      },
      "source": [
        "df['day_of_week'] = df.commit_date.apply(lambda x : x.dayofweek)"
      ],
      "execution_count": 228,
      "outputs": []
    },
    {
      "cell_type": "code",
      "metadata": {
        "id": "Sacb3wvn_TTR"
      },
      "source": [
        "df['is_weekend'] = df.commit_date.apply(lambda x : x.dayofweek//5 == 1).astype(int)"
      ],
      "execution_count": 229,
      "outputs": []
    },
    {
      "cell_type": "code",
      "metadata": {
        "id": "HQr-6qlp6KyY",
        "colab": {
          "base_uri": "https://localhost:8080/",
          "height": 423
        },
        "outputId": "8a03f9ca-c897-424b-e5fa-412e90728fee"
      },
      "source": [
        "df"
      ],
      "execution_count": 230,
      "outputs": [
        {
          "output_type": "execute_result",
          "data": {
            "text/html": [
              "<div>\n",
              "<style scoped>\n",
              "    .dataframe tbody tr th:only-of-type {\n",
              "        vertical-align: middle;\n",
              "    }\n",
              "\n",
              "    .dataframe tbody tr th {\n",
              "        vertical-align: top;\n",
              "    }\n",
              "\n",
              "    .dataframe thead th {\n",
              "        text-align: right;\n",
              "    }\n",
              "</style>\n",
              "<table border=\"1\" class=\"dataframe\">\n",
              "  <thead>\n",
              "    <tr style=\"text-align: right;\">\n",
              "      <th></th>\n",
              "      <th>repository_name</th>\n",
              "      <th>commit_hash</th>\n",
              "      <th>commit_date</th>\n",
              "      <th>commit_author</th>\n",
              "      <th>commit_message</th>\n",
              "      <th>bugs</th>\n",
              "      <th>month</th>\n",
              "      <th>day_of_week</th>\n",
              "      <th>is_weekend</th>\n",
              "    </tr>\n",
              "  </thead>\n",
              "  <tbody>\n",
              "    <tr>\n",
              "      <th>40</th>\n",
              "      <td>mlm</td>\n",
              "      <td>79db41fb</td>\n",
              "      <td>2020-03-08 14:26:16</td>\n",
              "      <td>Victor</td>\n",
              "      <td>Initial commit</td>\n",
              "      <td>3</td>\n",
              "      <td>3</td>\n",
              "      <td>6</td>\n",
              "      <td>1</td>\n",
              "    </tr>\n",
              "    <tr>\n",
              "      <th>39</th>\n",
              "      <td>mlm</td>\n",
              "      <td>bfa1152f</td>\n",
              "      <td>2020-03-08 15:38:30</td>\n",
              "      <td>Victor</td>\n",
              "      <td>JsonMaster as function separator</td>\n",
              "      <td>6</td>\n",
              "      <td>3</td>\n",
              "      <td>6</td>\n",
              "      <td>1</td>\n",
              "    </tr>\n",
              "    <tr>\n",
              "      <th>38</th>\n",
              "      <td>mlm</td>\n",
              "      <td>29ba5151</td>\n",
              "      <td>2020-03-08 17:18:35</td>\n",
              "      <td>Victor</td>\n",
              "      <td>Small Fixes in models.py to make it work</td>\n",
              "      <td>12</td>\n",
              "      <td>3</td>\n",
              "      <td>6</td>\n",
              "      <td>1</td>\n",
              "    </tr>\n",
              "    <tr>\n",
              "      <th>37</th>\n",
              "      <td>mlm</td>\n",
              "      <td>a8b55539</td>\n",
              "      <td>2020-03-08 17:19:19</td>\n",
              "      <td>Victor</td>\n",
              "      <td>Added .gitignore</td>\n",
              "      <td>3</td>\n",
              "      <td>3</td>\n",
              "      <td>6</td>\n",
              "      <td>1</td>\n",
              "    </tr>\n",
              "    <tr>\n",
              "      <th>36</th>\n",
              "      <td>mlm</td>\n",
              "      <td>bb54e4e6</td>\n",
              "      <td>2020-03-08 17:23:12</td>\n",
              "      <td>Victor</td>\n",
              "      <td>Small Fixes in main.py to make it work</td>\n",
              "      <td>12</td>\n",
              "      <td>3</td>\n",
              "      <td>6</td>\n",
              "      <td>1</td>\n",
              "    </tr>\n",
              "    <tr>\n",
              "      <th>...</th>\n",
              "      <td>...</td>\n",
              "      <td>...</td>\n",
              "      <td>...</td>\n",
              "      <td>...</td>\n",
              "      <td>...</td>\n",
              "      <td>...</td>\n",
              "      <td>...</td>\n",
              "      <td>...</td>\n",
              "      <td>...</td>\n",
              "    </tr>\n",
              "    <tr>\n",
              "      <th>2</th>\n",
              "      <td>mlm</td>\n",
              "      <td>8e6e4f31</td>\n",
              "      <td>2020-06-11 15:19:03</td>\n",
              "      <td>Victor</td>\n",
              "      <td>Скрипт для создния пакетов обновления</td>\n",
              "      <td>4</td>\n",
              "      <td>6</td>\n",
              "      <td>3</td>\n",
              "      <td>0</td>\n",
              "    </tr>\n",
              "    <tr>\n",
              "      <th>85</th>\n",
              "      <td>conductor</td>\n",
              "      <td>ae539a47</td>\n",
              "      <td>2020-06-11 16:00:55</td>\n",
              "      <td>Wendy</td>\n",
              "      <td>add check before upload</td>\n",
              "      <td>2</td>\n",
              "      <td>6</td>\n",
              "      <td>3</td>\n",
              "      <td>0</td>\n",
              "    </tr>\n",
              "    <tr>\n",
              "      <th>84</th>\n",
              "      <td>conductor</td>\n",
              "      <td>ddf7c557</td>\n",
              "      <td>2020-06-12 09:45:18</td>\n",
              "      <td>Wendy</td>\n",
              "      <td>Улучшен алгоритм отправки файла</td>\n",
              "      <td>2</td>\n",
              "      <td>6</td>\n",
              "      <td>4</td>\n",
              "      <td>0</td>\n",
              "    </tr>\n",
              "    <tr>\n",
              "      <th>1</th>\n",
              "      <td>mlm</td>\n",
              "      <td>438b5c4d</td>\n",
              "      <td>2020-06-12 11:53:10</td>\n",
              "      <td>Victor</td>\n",
              "      <td>Поставил lime вместо eli5</td>\n",
              "      <td>3</td>\n",
              "      <td>6</td>\n",
              "      <td>4</td>\n",
              "      <td>0</td>\n",
              "    </tr>\n",
              "    <tr>\n",
              "      <th>0</th>\n",
              "      <td>mlm</td>\n",
              "      <td>b28abb42</td>\n",
              "      <td>2020-06-12 14:26:12</td>\n",
              "      <td>Victor</td>\n",
              "      <td>объяснения предсказаний с помощью lime</td>\n",
              "      <td>4</td>\n",
              "      <td>6</td>\n",
              "      <td>4</td>\n",
              "      <td>0</td>\n",
              "    </tr>\n",
              "  </tbody>\n",
              "</table>\n",
              "<p>319 rows × 9 columns</p>\n",
              "</div>"
            ],
            "text/plain": [
              "   repository_name commit_hash  ... day_of_week is_weekend\n",
              "40             mlm    79db41fb  ...           6          1\n",
              "39             mlm    bfa1152f  ...           6          1\n",
              "38             mlm    29ba5151  ...           6          1\n",
              "37             mlm    a8b55539  ...           6          1\n",
              "36             mlm    bb54e4e6  ...           6          1\n",
              "..             ...         ...  ...         ...        ...\n",
              "2              mlm    8e6e4f31  ...           3          0\n",
              "85       conductor    ae539a47  ...           3          0\n",
              "84       conductor    ddf7c557  ...           4          0\n",
              "1              mlm    438b5c4d  ...           4          0\n",
              "0              mlm    b28abb42  ...           4          0\n",
              "\n",
              "[319 rows x 9 columns]"
            ]
          },
          "metadata": {},
          "execution_count": 230
        }
      ]
    },
    {
      "cell_type": "markdown",
      "metadata": {
        "id": "beR1ktbk6BXe"
      },
      "source": [
        "##Посмотрим распределение новых категориальных данных (месяц, выходной/будний день, день недели)"
      ]
    },
    {
      "cell_type": "code",
      "metadata": {
        "id": "uxZp4Xm5XRJR",
        "colab": {
          "base_uri": "https://localhost:8080/",
          "height": 297
        },
        "outputId": "ab848ff4-a156-4c88-844e-a8812ef3d88d"
      },
      "source": [
        "sns.boxplot(x='month', y='bugs', data=df)"
      ],
      "execution_count": 231,
      "outputs": [
        {
          "output_type": "execute_result",
          "data": {
            "text/plain": [
              "<matplotlib.axes._subplots.AxesSubplot at 0x7f6d951eccd0>"
            ]
          },
          "metadata": {},
          "execution_count": 231
        },
        {
          "output_type": "display_data",
          "data": {
            "image/png": "[encoded data removed]",
            "text/plain": [
              "<Figure size 432x288 with 1 Axes>"
            ]
          },
          "metadata": {
            "needs_background": "light"
          }
        }
      ]
    },
    {
      "cell_type": "code",
      "metadata": {
        "id": "XFXraHgE6K37",
        "colab": {
          "base_uri": "https://localhost:8080/",
          "height": 298
        },
        "outputId": "7a129d8e-a32b-4fbb-e5bf-8d058be8a0d3"
      },
      "source": [
        "sns.boxplot(x='is_weekend', y='bugs', data=df)"
      ],
      "execution_count": 232,
      "outputs": [
        {
          "output_type": "execute_result",
          "data": {
            "text/plain": [
              "<matplotlib.axes._subplots.AxesSubplot at 0x7f6d9511ded0>"
            ]
          },
          "metadata": {},
          "execution_count": 232
        },
        {
          "output_type": "display_data",
          "data": {
            "image/png": "[encoded data removed]",
            "text/plain": [
              "<Figure size 432x288 with 1 Axes>"
            ]
          },
          "metadata": {
            "needs_background": "light"
          }
        }
      ]
    },
    {
      "cell_type": "code",
      "metadata": {
        "id": "_x3_zPm36K6x",
        "colab": {
          "base_uri": "https://localhost:8080/",
          "height": 298
        },
        "outputId": "85a43403-bf21-439c-f142-bcd74d5162ec"
      },
      "source": [
        "sns.boxplot(x='day_of_week', y='bugs', data=df)"
      ],
      "execution_count": 233,
      "outputs": [
        {
          "output_type": "execute_result",
          "data": {
            "text/plain": [
              "<matplotlib.axes._subplots.AxesSubplot at 0x7f6d951d81d0>"
            ]
          },
          "metadata": {},
          "execution_count": 233
        },
        {
          "output_type": "display_data",
          "data": {
            "image/png": "[encoded data removed]",
            "text/plain": [
              "<Figure size 432x288 with 1 Axes>"
            ]
          },
          "metadata": {
            "needs_background": "light"
          }
        }
      ]
    },
    {
      "cell_type": "markdown",
      "metadata": {
        "id": "GLETneMJ4hvS"
      },
      "source": [
        "#Разбивка данных"
      ]
    },
    {
      "cell_type": "markdown",
      "metadata": {
        "id": "q5LYmfR8NBHl"
      },
      "source": [
        "Уберем столбцы 'commit_date', 'commit_hash' и 'commit_message', т.к. все значения в них уникальны, получается, что они выступают в роли идентификаторов."
      ]
    },
    {
      "cell_type": "code",
      "metadata": {
        "id": "TbetfjJLeW7M"
      },
      "source": [
        "X_df, y_series = df.drop(['bugs', 'commit_date', 'commit_hash', 'commit_message' ], axis=1), df['bugs']"
      ],
      "execution_count": 234,
      "outputs": []
    },
    {
      "cell_type": "markdown",
      "metadata": {
        "id": "a4YhN0IKVTy6"
      },
      "source": [
        "Преобразуем категориальные признаки"
      ]
    },
    {
      "cell_type": "code",
      "metadata": {
        "id": "E9_tE9Ole1bl"
      },
      "source": [
        "X_df = pd.get_dummies(X_df, columns=X_df.columns[:-1])"
      ],
      "execution_count": 235,
      "outputs": []
    },
    {
      "cell_type": "code",
      "metadata": {
        "id": "LE9BeSU_fFLt",
        "colab": {
          "base_uri": "https://localhost:8080/",
          "height": 443
        },
        "outputId": "dd7e2453-ea5f-42cf-fa7f-4709680d5e93"
      },
      "source": [
        "X_df"
      ],
      "execution_count": 236,
      "outputs": [
        {
          "output_type": "execute_result",
          "data": {
            "text/html": [
              "<div>\n",
              "<style scoped>\n",
              "    .dataframe tbody tr th:only-of-type {\n",
              "        vertical-align: middle;\n",
              "    }\n",
              "\n",
              "    .dataframe tbody tr th {\n",
              "        vertical-align: top;\n",
              "    }\n",
              "\n",
              "    .dataframe thead th {\n",
              "        text-align: right;\n",
              "    }\n",
              "</style>\n",
              "<table border=\"1\" class=\"dataframe\">\n",
              "  <thead>\n",
              "    <tr style=\"text-align: right;\">\n",
              "      <th></th>\n",
              "      <th>is_weekend</th>\n",
              "      <th>repository_name_agent</th>\n",
              "      <th>repository_name_conductor</th>\n",
              "      <th>repository_name_dockers</th>\n",
              "      <th>repository_name_mlm</th>\n",
              "      <th>repository_name_sensor</th>\n",
              "      <th>repository_name_standard</th>\n",
              "      <th>commit_author_Alice</th>\n",
              "      <th>commit_author_Bob</th>\n",
              "      <th>commit_author_Carol</th>\n",
              "      <th>commit_author_Dabe</th>\n",
              "      <th>commit_author_Eve</th>\n",
              "      <th>commit_author_Mallory</th>\n",
              "      <th>commit_author_Peggy</th>\n",
              "      <th>commit_author_Trudy</th>\n",
              "      <th>commit_author_Victor</th>\n",
              "      <th>commit_author_Wendy</th>\n",
              "      <th>month_3</th>\n",
              "      <th>month_4</th>\n",
              "      <th>month_5</th>\n",
              "      <th>month_6</th>\n",
              "      <th>day_of_week_0</th>\n",
              "      <th>day_of_week_1</th>\n",
              "      <th>day_of_week_2</th>\n",
              "      <th>day_of_week_3</th>\n",
              "      <th>day_of_week_4</th>\n",
              "      <th>day_of_week_5</th>\n",
              "      <th>day_of_week_6</th>\n",
              "    </tr>\n",
              "  </thead>\n",
              "  <tbody>\n",
              "    <tr>\n",
              "      <th>40</th>\n",
              "      <td>1</td>\n",
              "      <td>0</td>\n",
              "      <td>0</td>\n",
              "      <td>0</td>\n",
              "      <td>1</td>\n",
              "      <td>0</td>\n",
              "      <td>0</td>\n",
              "      <td>0</td>\n",
              "      <td>0</td>\n",
              "      <td>0</td>\n",
              "      <td>0</td>\n",
              "      <td>0</td>\n",
              "      <td>0</td>\n",
              "      <td>0</td>\n",
              "      <td>0</td>\n",
              "      <td>1</td>\n",
              "      <td>0</td>\n",
              "      <td>1</td>\n",
              "      <td>0</td>\n",
              "      <td>0</td>\n",
              "      <td>0</td>\n",
              "      <td>0</td>\n",
              "      <td>0</td>\n",
              "      <td>0</td>\n",
              "      <td>0</td>\n",
              "      <td>0</td>\n",
              "      <td>0</td>\n",
              "      <td>1</td>\n",
              "    </tr>\n",
              "    <tr>\n",
              "      <th>39</th>\n",
              "      <td>1</td>\n",
              "      <td>0</td>\n",
              "      <td>0</td>\n",
              "      <td>0</td>\n",
              "      <td>1</td>\n",
              "      <td>0</td>\n",
              "      <td>0</td>\n",
              "      <td>0</td>\n",
              "      <td>0</td>\n",
              "      <td>0</td>\n",
              "      <td>0</td>\n",
              "      <td>0</td>\n",
              "      <td>0</td>\n",
              "      <td>0</td>\n",
              "      <td>0</td>\n",
              "      <td>1</td>\n",
              "      <td>0</td>\n",
              "      <td>1</td>\n",
              "      <td>0</td>\n",
              "      <td>0</td>\n",
              "      <td>0</td>\n",
              "      <td>0</td>\n",
              "      <td>0</td>\n",
              "      <td>0</td>\n",
              "      <td>0</td>\n",
              "      <td>0</td>\n",
              "      <td>0</td>\n",
              "      <td>1</td>\n",
              "    </tr>\n",
              "    <tr>\n",
              "      <th>38</th>\n",
              "      <td>1</td>\n",
              "      <td>0</td>\n",
              "      <td>0</td>\n",
              "      <td>0</td>\n",
              "      <td>1</td>\n",
              "      <td>0</td>\n",
              "      <td>0</td>\n",
              "      <td>0</td>\n",
              "      <td>0</td>\n",
              "      <td>0</td>\n",
              "      <td>0</td>\n",
              "      <td>0</td>\n",
              "      <td>0</td>\n",
              "      <td>0</td>\n",
              "      <td>0</td>\n",
              "      <td>1</td>\n",
              "      <td>0</td>\n",
              "      <td>1</td>\n",
              "      <td>0</td>\n",
              "      <td>0</td>\n",
              "      <td>0</td>\n",
              "      <td>0</td>\n",
              "      <td>0</td>\n",
              "      <td>0</td>\n",
              "      <td>0</td>\n",
              "      <td>0</td>\n",
              "      <td>0</td>\n",
              "      <td>1</td>\n",
              "    </tr>\n",
              "    <tr>\n",
              "      <th>37</th>\n",
              "      <td>1</td>\n",
              "      <td>0</td>\n",
              "      <td>0</td>\n",
              "      <td>0</td>\n",
              "      <td>1</td>\n",
              "      <td>0</td>\n",
              "      <td>0</td>\n",
              "      <td>0</td>\n",
              "      <td>0</td>\n",
              "      <td>0</td>\n",
              "      <td>0</td>\n",
              "      <td>0</td>\n",
              "      <td>0</td>\n",
              "      <td>0</td>\n",
              "      <td>0</td>\n",
              "      <td>1</td>\n",
              "      <td>0</td>\n",
              "      <td>1</td>\n",
              "      <td>0</td>\n",
              "      <td>0</td>\n",
              "      <td>0</td>\n",
              "      <td>0</td>\n",
              "      <td>0</td>\n",
              "      <td>0</td>\n",
              "      <td>0</td>\n",
              "      <td>0</td>\n",
              "      <td>0</td>\n",
              "      <td>1</td>\n",
              "    </tr>\n",
              "    <tr>\n",
              "      <th>36</th>\n",
              "      <td>1</td>\n",
              "      <td>0</td>\n",
              "      <td>0</td>\n",
              "      <td>0</td>\n",
              "      <td>1</td>\n",
              "      <td>0</td>\n",
              "      <td>0</td>\n",
              "      <td>0</td>\n",
              "      <td>0</td>\n",
              "      <td>0</td>\n",
              "      <td>0</td>\n",
              "      <td>0</td>\n",
              "      <td>0</td>\n",
              "      <td>0</td>\n",
              "      <td>0</td>\n",
              "      <td>1</td>\n",
              "      <td>0</td>\n",
              "      <td>1</td>\n",
              "      <td>0</td>\n",
              "      <td>0</td>\n",
              "      <td>0</td>\n",
              "      <td>0</td>\n",
              "      <td>0</td>\n",
              "      <td>0</td>\n",
              "      <td>0</td>\n",
              "      <td>0</td>\n",
              "      <td>0</td>\n",
              "      <td>1</td>\n",
              "    </tr>\n",
              "    <tr>\n",
              "      <th>...</th>\n",
              "      <td>...</td>\n",
              "      <td>...</td>\n",
              "      <td>...</td>\n",
              "      <td>...</td>\n",
              "      <td>...</td>\n",
              "      <td>...</td>\n",
              "      <td>...</td>\n",
              "      <td>...</td>\n",
              "      <td>...</td>\n",
              "      <td>...</td>\n",
              "      <td>...</td>\n",
              "      <td>...</td>\n",
              "      <td>...</td>\n",
              "      <td>...</td>\n",
              "      <td>...</td>\n",
              "      <td>...</td>\n",
              "      <td>...</td>\n",
              "      <td>...</td>\n",
              "      <td>...</td>\n",
              "      <td>...</td>\n",
              "      <td>...</td>\n",
              "      <td>...</td>\n",
              "      <td>...</td>\n",
              "      <td>...</td>\n",
              "      <td>...</td>\n",
              "      <td>...</td>\n",
              "      <td>...</td>\n",
              "      <td>...</td>\n",
              "    </tr>\n",
              "    <tr>\n",
              "      <th>2</th>\n",
              "      <td>0</td>\n",
              "      <td>0</td>\n",
              "      <td>0</td>\n",
              "      <td>0</td>\n",
              "      <td>1</td>\n",
              "      <td>0</td>\n",
              "      <td>0</td>\n",
              "      <td>0</td>\n",
              "      <td>0</td>\n",
              "      <td>0</td>\n",
              "      <td>0</td>\n",
              "      <td>0</td>\n",
              "      <td>0</td>\n",
              "      <td>0</td>\n",
              "      <td>0</td>\n",
              "      <td>1</td>\n",
              "      <td>0</td>\n",
              "      <td>0</td>\n",
              "      <td>0</td>\n",
              "      <td>0</td>\n",
              "      <td>1</td>\n",
              "      <td>0</td>\n",
              "      <td>0</td>\n",
              "      <td>0</td>\n",
              "      <td>1</td>\n",
              "      <td>0</td>\n",
              "      <td>0</td>\n",
              "      <td>0</td>\n",
              "    </tr>\n",
              "    <tr>\n",
              "      <th>85</th>\n",
              "      <td>0</td>\n",
              "      <td>0</td>\n",
              "      <td>1</td>\n",
              "      <td>0</td>\n",
              "      <td>0</td>\n",
              "      <td>0</td>\n",
              "      <td>0</td>\n",
              "      <td>0</td>\n",
              "      <td>0</td>\n",
              "      <td>0</td>\n",
              "      <td>0</td>\n",
              "      <td>0</td>\n",
              "      <td>0</td>\n",
              "      <td>0</td>\n",
              "      <td>0</td>\n",
              "      <td>0</td>\n",
              "      <td>1</td>\n",
              "      <td>0</td>\n",
              "      <td>0</td>\n",
              "      <td>0</td>\n",
              "      <td>1</td>\n",
              "      <td>0</td>\n",
              "      <td>0</td>\n",
              "      <td>0</td>\n",
              "      <td>1</td>\n",
              "      <td>0</td>\n",
              "      <td>0</td>\n",
              "      <td>0</td>\n",
              "    </tr>\n",
              "    <tr>\n",
              "      <th>84</th>\n",
              "      <td>0</td>\n",
              "      <td>0</td>\n",
              "      <td>1</td>\n",
              "      <td>0</td>\n",
              "      <td>0</td>\n",
              "      <td>0</td>\n",
              "      <td>0</td>\n",
              "      <td>0</td>\n",
              "      <td>0</td>\n",
              "      <td>0</td>\n",
              "      <td>0</td>\n",
              "      <td>0</td>\n",
              "      <td>0</td>\n",
              "      <td>0</td>\n",
              "      <td>0</td>\n",
              "      <td>0</td>\n",
              "      <td>1</td>\n",
              "      <td>0</td>\n",
              "      <td>0</td>\n",
              "      <td>0</td>\n",
              "      <td>1</td>\n",
              "      <td>0</td>\n",
              "      <td>0</td>\n",
              "      <td>0</td>\n",
              "      <td>0</td>\n",
              "      <td>1</td>\n",
              "      <td>0</td>\n",
              "      <td>0</td>\n",
              "    </tr>\n",
              "    <tr>\n",
              "      <th>1</th>\n",
              "      <td>0</td>\n",
              "      <td>0</td>\n",
              "      <td>0</td>\n",
              "      <td>0</td>\n",
              "      <td>1</td>\n",
              "      <td>0</td>\n",
              "      <td>0</td>\n",
              "      <td>0</td>\n",
              "      <td>0</td>\n",
              "      <td>0</td>\n",
              "      <td>0</td>\n",
              "      <td>0</td>\n",
              "      <td>0</td>\n",
              "      <td>0</td>\n",
              "      <td>0</td>\n",
              "      <td>1</td>\n",
              "      <td>0</td>\n",
              "      <td>0</td>\n",
              "      <td>0</td>\n",
              "      <td>0</td>\n",
              "      <td>1</td>\n",
              "      <td>0</td>\n",
              "      <td>0</td>\n",
              "      <td>0</td>\n",
              "      <td>0</td>\n",
              "      <td>1</td>\n",
              "      <td>0</td>\n",
              "      <td>0</td>\n",
              "    </tr>\n",
              "    <tr>\n",
              "      <th>0</th>\n",
              "      <td>0</td>\n",
              "      <td>0</td>\n",
              "      <td>0</td>\n",
              "      <td>0</td>\n",
              "      <td>1</td>\n",
              "      <td>0</td>\n",
              "      <td>0</td>\n",
              "      <td>0</td>\n",
              "      <td>0</td>\n",
              "      <td>0</td>\n",
              "      <td>0</td>\n",
              "      <td>0</td>\n",
              "      <td>0</td>\n",
              "      <td>0</td>\n",
              "      <td>0</td>\n",
              "      <td>1</td>\n",
              "      <td>0</td>\n",
              "      <td>0</td>\n",
              "      <td>0</td>\n",
              "      <td>0</td>\n",
              "      <td>1</td>\n",
              "      <td>0</td>\n",
              "      <td>0</td>\n",
              "      <td>0</td>\n",
              "      <td>0</td>\n",
              "      <td>1</td>\n",
              "      <td>0</td>\n",
              "      <td>0</td>\n",
              "    </tr>\n",
              "  </tbody>\n",
              "</table>\n",
              "<p>319 rows × 28 columns</p>\n",
              "</div>"
            ],
            "text/plain": [
              "    is_weekend  repository_name_agent  ...  day_of_week_5  day_of_week_6\n",
              "40           1                      0  ...              0              1\n",
              "39           1                      0  ...              0              1\n",
              "38           1                      0  ...              0              1\n",
              "37           1                      0  ...              0              1\n",
              "36           1                      0  ...              0              1\n",
              "..         ...                    ...  ...            ...            ...\n",
              "2            0                      0  ...              0              0\n",
              "85           0                      0  ...              0              0\n",
              "84           0                      0  ...              0              0\n",
              "1            0                      0  ...              0              0\n",
              "0            0                      0  ...              0              0\n",
              "\n",
              "[319 rows x 28 columns]"
            ]
          },
          "metadata": {},
          "execution_count": 236
        }
      ]
    },
    {
      "cell_type": "markdown",
      "metadata": {
        "id": "BHAGSbZD_p5I"
      },
      "source": [
        "Разделим данные на обучение и тест. Не будем использовать кросс-валидацию, т.к. данные отсортированы по времени."
      ]
    },
    {
      "cell_type": "code",
      "metadata": {
        "id": "0VQVKhN1NARO"
      },
      "source": [
        "train_share = 0.7\n",
        "\n",
        "train_part_len = int(train_share * df.shape[0])\n",
        "\n",
        "X_train = X_df.values[:train_part_len, :]\n",
        "X_valid = X_df.values[train_part_len:, :]\n",
        "y_train = y_series.values[:train_part_len]\n",
        "y_valid = y_series.values[train_part_len:]"
      ],
      "execution_count": 237,
      "outputs": []
    },
    {
      "cell_type": "markdown",
      "metadata": {
        "id": "glSdzHYZHyb9"
      },
      "source": [
        "Проверим распределение 'bugs' на обучении и тесте"
      ]
    },
    {
      "cell_type": "code",
      "metadata": {
        "id": "AuuQAWc5FJAv",
        "colab": {
          "base_uri": "https://localhost:8080/",
          "height": 264
        },
        "outputId": "86a77757-1a48-4509-d553-8e7c4f2e863a"
      },
      "source": [
        "plt.hist(y_train);"
      ],
      "execution_count": 238,
      "outputs": [
        {
          "output_type": "display_data",
          "data": {
            "image/png": "[encoded data removed]",
            "text/plain": [
              "<Figure size 432x288 with 1 Axes>"
            ]
          },
          "metadata": {
            "needs_background": "light"
          }
        }
      ]
    },
    {
      "cell_type": "code",
      "metadata": {
        "id": "W59g0ZpHFW24",
        "colab": {
          "base_uri": "https://localhost:8080/",
          "height": 264
        },
        "outputId": "22907039-3201-49da-fb20-c39221cc4b63"
      },
      "source": [
        "plt.hist(y_valid);"
      ],
      "execution_count": 239,
      "outputs": [
        {
          "output_type": "display_data",
          "data": {
            "image/png": "[encoded data removed]",
            "text/plain": [
              "<Figure size 432x288 with 1 Axes>"
            ]
          },
          "metadata": {
            "needs_background": "light"
          }
        }
      ]
    },
    {
      "cell_type": "markdown",
      "metadata": {
        "id": "2iH1X-AgP5Y3"
      },
      "source": [
        "##Обучение моделей"
      ]
    },
    {
      "cell_type": "markdown",
      "metadata": {
        "id": "DHmrTDWT7ndO"
      },
      "source": [
        "Сравним несколько моделей: регрессию (методом наименьших квадратов), регрессию с L1 и L2 регуляризацией, случайный лес"
      ]
    },
    {
      "cell_type": "code",
      "metadata": {
        "id": "re6nj7gAP0mU"
      },
      "source": [
        "linreg = LinearRegression()\n",
        "lasso = Lasso(random_state=17)\n",
        "ridge = Ridge(random_state=17)\n",
        "\n",
        "lasso_cv = LassoCV(cv=2, random_state=17)\n",
        "ridge_cv = RidgeCV(cv=2)\n",
        "\n",
        "forest  = RandomForestRegressor(random_state=17)"
      ],
      "execution_count": 274,
      "outputs": []
    },
    {
      "cell_type": "code",
      "metadata": {
        "id": "iOEA2GAeAeUT"
      },
      "source": [
        "def train_validate(model):\n",
        "  model.fit(X_train, y_train)\n",
        "  print(\"RMSE = \" + str(np.sqrt(mean_squared_error(y_valid, model.predict(X_valid)))))"
      ],
      "execution_count": 275,
      "outputs": []
    },
    {
      "cell_type": "code",
      "metadata": {
        "id": "k9yNGAlQC-n8",
        "colab": {
          "base_uri": "https://localhost:8080/"
        },
        "outputId": "f9cfef2e-7791-44af-b05c-461ef8189050"
      },
      "source": [
        "train_validate(linreg)"
      ],
      "execution_count": 276,
      "outputs": [
        {
          "output_type": "stream",
          "name": "stdout",
          "text": [
            "RMSE = 291272211211898.9\n"
          ]
        }
      ]
    },
    {
      "cell_type": "code",
      "metadata": {
        "id": "ciRFv6c5DbCx",
        "colab": {
          "base_uri": "https://localhost:8080/"
        },
        "outputId": "f7122532-bc45-4ad5-c4c5-a133bf4bfc71"
      },
      "source": [
        "train_validate(lasso)"
      ],
      "execution_count": 277,
      "outputs": [
        {
          "output_type": "stream",
          "name": "stdout",
          "text": [
            "RMSE = 2.0133370690021564\n"
          ]
        }
      ]
    },
    {
      "cell_type": "code",
      "metadata": {
        "id": "p02iV7AODuUA",
        "colab": {
          "base_uri": "https://localhost:8080/"
        },
        "outputId": "aed3058b-d6bd-454b-f50d-b6a1007424ca"
      },
      "source": [
        "train_validate(ridge)"
      ],
      "execution_count": 278,
      "outputs": [
        {
          "output_type": "stream",
          "name": "stdout",
          "text": [
            "RMSE = 2.0287838355496426\n"
          ]
        }
      ]
    },
    {
      "cell_type": "code",
      "metadata": {
        "id": "DHI-OUOXECVO",
        "colab": {
          "base_uri": "https://localhost:8080/"
        },
        "outputId": "7190ca4b-7334-40d2-ad6d-fe2eee5fbef4"
      },
      "source": [
        "train_validate(lasso_cv)"
      ],
      "execution_count": 279,
      "outputs": [
        {
          "output_type": "stream",
          "name": "stdout",
          "text": [
            "RMSE = 1.9801354650599998\n"
          ]
        }
      ]
    },
    {
      "cell_type": "code",
      "metadata": {
        "id": "5ejzIMweEGev",
        "colab": {
          "base_uri": "https://localhost:8080/"
        },
        "outputId": "9bf90863-dbc3-4dca-8fd9-3ee9d316a1f9"
      },
      "source": [
        "train_validate(ridge_cv)"
      ],
      "execution_count": 280,
      "outputs": [
        {
          "output_type": "stream",
          "name": "stdout",
          "text": [
            "RMSE = 1.8428005996506187\n"
          ]
        }
      ]
    },
    {
      "cell_type": "code",
      "metadata": {
        "id": "BtjwTmP3EcQq",
        "colab": {
          "base_uri": "https://localhost:8080/"
        },
        "outputId": "41c03e73-df17-44a9-8330-922ce548212a"
      },
      "source": [
        "train_validate_report(forest)"
      ],
      "execution_count": 281,
      "outputs": [
        {
          "output_type": "stream",
          "name": "stdout",
          "text": [
            "MSE = 2.0298247437459787\n"
          ]
        }
      ]
    },
    {
      "cell_type": "markdown",
      "metadata": {
        "id": "OsVUSjgLEGFR"
      },
      "source": [
        "#Лучшее значение RMSE получено для модели RidgeCV. Посмотрим коэффициенты перед признаками"
      ]
    },
    {
      "cell_type": "code",
      "metadata": {
        "id": "htiFU2dHiCP7",
        "colab": {
          "base_uri": "https://localhost:8080/",
          "height": 926
        },
        "outputId": "3a6d0de2-24c5-4ef0-ca55-98c4a1dcbd47"
      },
      "source": [
        "pd.DataFrame(ridge_cv.coef_, X_df.columns, columns=['coef']).sort_values(by='coef', ascending=False)"
      ],
      "execution_count": 273,
      "outputs": [
        {
          "output_type": "execute_result",
          "data": {
            "text/html": [
              "<div>\n",
              "<style scoped>\n",
              "    .dataframe tbody tr th:only-of-type {\n",
              "        vertical-align: middle;\n",
              "    }\n",
              "\n",
              "    .dataframe tbody tr th {\n",
              "        vertical-align: top;\n",
              "    }\n",
              "\n",
              "    .dataframe thead th {\n",
              "        text-align: right;\n",
              "    }\n",
              "</style>\n",
              "<table border=\"1\" class=\"dataframe\">\n",
              "  <thead>\n",
              "    <tr style=\"text-align: right;\">\n",
              "      <th></th>\n",
              "      <th>coef</th>\n",
              "    </tr>\n",
              "  </thead>\n",
              "  <tbody>\n",
              "    <tr>\n",
              "      <th>repository_name_mlm</th>\n",
              "      <td>1.286973</td>\n",
              "    </tr>\n",
              "    <tr>\n",
              "      <th>commit_author_Eve</th>\n",
              "      <td>0.419877</td>\n",
              "    </tr>\n",
              "    <tr>\n",
              "      <th>commit_author_Mallory</th>\n",
              "      <td>0.362079</td>\n",
              "    </tr>\n",
              "    <tr>\n",
              "      <th>day_of_week_6</th>\n",
              "      <td>0.319630</td>\n",
              "    </tr>\n",
              "    <tr>\n",
              "      <th>commit_author_Victor</th>\n",
              "      <td>0.276867</td>\n",
              "    </tr>\n",
              "    <tr>\n",
              "      <th>is_weekend</th>\n",
              "      <td>0.269086</td>\n",
              "    </tr>\n",
              "    <tr>\n",
              "      <th>month_3</th>\n",
              "      <td>0.233547</td>\n",
              "    </tr>\n",
              "    <tr>\n",
              "      <th>day_of_week_2</th>\n",
              "      <td>0.204702</td>\n",
              "    </tr>\n",
              "    <tr>\n",
              "      <th>repository_name_standard</th>\n",
              "      <td>0.079820</td>\n",
              "    </tr>\n",
              "    <tr>\n",
              "      <th>day_of_week_3</th>\n",
              "      <td>0.065329</td>\n",
              "    </tr>\n",
              "    <tr>\n",
              "      <th>commit_author_Wendy</th>\n",
              "      <td>0.037824</td>\n",
              "    </tr>\n",
              "    <tr>\n",
              "      <th>month_4</th>\n",
              "      <td>0.037190</td>\n",
              "    </tr>\n",
              "    <tr>\n",
              "      <th>repository_name_agent</th>\n",
              "      <td>0.000000</td>\n",
              "    </tr>\n",
              "    <tr>\n",
              "      <th>month_6</th>\n",
              "      <td>0.000000</td>\n",
              "    </tr>\n",
              "    <tr>\n",
              "      <th>commit_author_Carol</th>\n",
              "      <td>0.000000</td>\n",
              "    </tr>\n",
              "    <tr>\n",
              "      <th>commit_author_Peggy</th>\n",
              "      <td>0.000000</td>\n",
              "    </tr>\n",
              "    <tr>\n",
              "      <th>commit_author_Bob</th>\n",
              "      <td>-0.040997</td>\n",
              "    </tr>\n",
              "    <tr>\n",
              "      <th>day_of_week_5</th>\n",
              "      <td>-0.050544</td>\n",
              "    </tr>\n",
              "    <tr>\n",
              "      <th>day_of_week_1</th>\n",
              "      <td>-0.104249</td>\n",
              "    </tr>\n",
              "    <tr>\n",
              "      <th>day_of_week_0</th>\n",
              "      <td>-0.107724</td>\n",
              "    </tr>\n",
              "    <tr>\n",
              "      <th>repository_name_conductor</th>\n",
              "      <td>-0.158918</td>\n",
              "    </tr>\n",
              "    <tr>\n",
              "      <th>commit_author_Trudy</th>\n",
              "      <td>-0.191519</td>\n",
              "    </tr>\n",
              "    <tr>\n",
              "      <th>month_5</th>\n",
              "      <td>-0.270737</td>\n",
              "    </tr>\n",
              "    <tr>\n",
              "      <th>repository_name_dockers</th>\n",
              "      <td>-0.272220</td>\n",
              "    </tr>\n",
              "    <tr>\n",
              "      <th>commit_author_Alice</th>\n",
              "      <td>-0.310885</td>\n",
              "    </tr>\n",
              "    <tr>\n",
              "      <th>day_of_week_4</th>\n",
              "      <td>-0.327144</td>\n",
              "    </tr>\n",
              "    <tr>\n",
              "      <th>commit_author_Dabe</th>\n",
              "      <td>-0.553245</td>\n",
              "    </tr>\n",
              "    <tr>\n",
              "      <th>repository_name_sensor</th>\n",
              "      <td>-0.935654</td>\n",
              "    </tr>\n",
              "  </tbody>\n",
              "</table>\n",
              "</div>"
            ],
            "text/plain": [
              "                               coef\n",
              "repository_name_mlm        1.286973\n",
              "commit_author_Eve          0.419877\n",
              "commit_author_Mallory      0.362079\n",
              "day_of_week_6              0.319630\n",
              "commit_author_Victor       0.276867\n",
              "is_weekend                 0.269086\n",
              "month_3                    0.233547\n",
              "day_of_week_2              0.204702\n",
              "repository_name_standard   0.079820\n",
              "day_of_week_3              0.065329\n",
              "commit_author_Wendy        0.037824\n",
              "month_4                    0.037190\n",
              "repository_name_agent      0.000000\n",
              "month_6                    0.000000\n",
              "commit_author_Carol        0.000000\n",
              "commit_author_Peggy        0.000000\n",
              "commit_author_Bob         -0.040997\n",
              "day_of_week_5             -0.050544\n",
              "day_of_week_1             -0.104249\n",
              "day_of_week_0             -0.107724\n",
              "repository_name_conductor -0.158918\n",
              "commit_author_Trudy       -0.191519\n",
              "month_5                   -0.270737\n",
              "repository_name_dockers   -0.272220\n",
              "commit_author_Alice       -0.310885\n",
              "day_of_week_4             -0.327144\n",
              "commit_author_Dabe        -0.553245\n",
              "repository_name_sensor    -0.935654"
            ]
          },
          "metadata": {},
          "execution_count": 273
        }
      ]
    }
  ]
}